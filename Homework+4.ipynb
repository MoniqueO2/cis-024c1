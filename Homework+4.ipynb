{
 "cells": [
  {
   "cell_type": "code",
   "execution_count": null,
   "metadata": {
    "collapsed": true
   },
   "outputs": [],
   "source": [
    "Exercise 1 - Testing your knowledge of lists, tuples and dictionaries\n",
    "Answer the below questions\n",
    "1. What is the main difference between a list and a tuple\n",
    "2. How does a dictionary object differ from a list.\n",
    "\n",
    "\n",
    "1. The difference between a list and a tuple is that a list is mutable and a tuple is not.\n",
    "\n",
    "2. A list has order where a dictionary does not."
   ]
  },
  {
   "cell_type": "code",
   "execution_count": 1,
   "metadata": {},
   "outputs": [
    {
     "name": "stdout",
     "output_type": "stream",
     "text": [
      "[1, 2, 3, 4, 5, 6, 7, 8, 9, 10]\n",
      "(1, 2, 3, 4, 5, 6, 7, 8, 9, 10)\n",
      "set([1, 2, 3, 4, 5, 6, 7, 8, 9, 10])\n"
     ]
    }
   ],
   "source": [
    "#Exercise 2 - Initializing a list, tuple and dictionary\n",
    "#Create a list object with a set of any 10 numbers. Print the result\n",
    "#Create a tuple object with a set of 10 numbers. Print the result\n",
    "#Create a dictionary object with a set of 10 numbers. Print the result\n",
    "\n",
    "list = [1, 2, 3, 4, 5, 6, 7, 8, 9, 10]\n",
    "print list\n",
    "\n",
    "tuple = (1, 2, 3, 4, 5, 6, 7, 8, 9, 10)\n",
    "print tuple\n",
    "\n",
    "dict = {1, 2, 3, 4, 5, 6, 7, 8, 9, 10}\n",
    "print dict\n",
    "\n",
    "\n",
    "\n"
   ]
  },
  {
   "cell_type": "code",
   "execution_count": 16,
   "metadata": {},
   "outputs": [
    {
     "name": "stdout",
     "output_type": "stream",
     "text": [
      "[1, 3, 5, 7, 9]\n",
      "[1, 3, 5, 7, 9]\n",
      "[1, 3, 5, 7, 9]\n",
      "[1, 3, 5, 7, 9]\n",
      "[1, 3, 5, 7, 9]\n",
      "[1, 3, 5, 7, 9]\n",
      "[1, 3, 5, 7, 9]\n",
      "[1, 3, 5, 7, 9]\n",
      "[1, 3, 5, 7, 9]\n",
      "[1, 3, 5, 7, 9]\n"
     ]
    }
   ],
   "source": [
    "# excercise 3\n",
    "\n",
    "myList = [1, 2, 3, 4, 5, 6, 7, 8, 9, 10]\n",
    "\n",
    "for numbers in myList:\n",
    "    print myList[::2]\n",
    "    \n",
    "    \n",
    "    "
   ]
  },
  {
   "cell_type": "code",
   "execution_count": 46,
   "metadata": {},
   "outputs": [
    {
     "name": "stdout",
     "output_type": "stream",
     "text": [
      "Enter a list of names with commas:tom, joe, sally\n",
      "[' joe', ' sally', 'tom']\n"
     ]
    }
   ],
   "source": [
    "# excercise 4\n",
    "\n",
    "names= raw_input(\"Enter a list of names with commas:\")\n",
    "nameList = names.split(\",\")\n",
    "\n",
    "print  sorted(nameList)\n",
    "\n",
    "\n",
    "        \n",
    "    \n",
    "    \n",
    "    "
   ]
  },
  {
   "cell_type": "code",
   "execution_count": 39,
   "metadata": {},
   "outputs": [
    {
     "name": "stdout",
     "output_type": "stream",
     "text": [
      "Enter a key number 1-4:2\n",
      "Sally\n"
     ]
    }
   ],
   "source": [
    "# exercise 5\n",
    "\n",
    "x= {1: \"Harry\", 2: \"Sally\", 3: \"Joe\", 4: \"Mathew\"}\n",
    "key= int(raw_input(\"Enter a key number 1-4:\"))\n",
    "\n",
    "\n",
    "print x[key]\n",
    "\n",
    "\n",
    "    \n",
    "    \n",
    "    \n",
    "    \n",
    "    \n",
    "\n",
    "    \n"
   ]
  }
 ],
 "metadata": {
  "kernelspec": {
   "display_name": "Python 2",
   "language": "python",
   "name": "python2"
  },
  "language_info": {
   "codemirror_mode": {
    "name": "ipython",
    "version": 2
   },
   "file_extension": ".py",
   "mimetype": "text/x-python",
   "name": "python",
   "nbconvert_exporter": "python",
   "pygments_lexer": "ipython2",
   "version": "2.7.13"
  }
 },
 "nbformat": 4,
 "nbformat_minor": 2
}
