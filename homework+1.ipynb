{
 "cells": [
  {
   "cell_type": "code",
   "execution_count": 1,
   "metadata": {},
   "outputs": [
    {
     "name": "stdout",
     "output_type": "stream",
     "text": [
      "11\n"
     ]
    }
   ],
   "source": [
    "# 3-1\n",
    "\n",
    "a = 5\n",
    "b = 6\n",
    "c = a + b\n",
    "print c"
   ]
  },
  {
   "cell_type": "code",
   "execution_count": 1,
   "metadata": {},
   "outputs": [
    {
     "name": "stdout",
     "output_type": "stream",
     "text": [
      "Hello Oscar\n"
     ]
    }
   ],
   "source": [
    "# 3-2\n",
    "\n",
    "greeting = 'Hello'\n",
    "person = 'Oscar'\n",
    "\n",
    "\n",
    "# 3-3\n",
    "\n",
    "personalGreeting = (greeting + ' ' + person)\n",
    "print personalGreeting "
   ]
  },
  {
   "cell_type": "code",
   "execution_count": null,
   "metadata": {},
   "outputs": [
    {
     "name": "stdout",
     "output_type": "stream",
     "text": [
      "Enter your age: 37\n"
     ]
    }
   ],
   "source": [
    "# 3-4, 3-5\n",
    "\n",
    "age = int(input('Enter your age: '))"
   ]
  },
  {
   "cell_type": "code",
   "execution_count": 10,
   "metadata": {},
   "outputs": [
    {
     "name": "stdout",
     "output_type": "stream",
     "text": [
      "age is greater than 35\n"
     ]
    }
   ],
   "source": [
    "# 3-6, 3-7\n",
    "\n",
    "age = 37\n",
    "\n",
    "if (age > 35):\n",
    "    \n",
    "    print 'age is greater than 35'\n",
    "if (age <  35):\n",
    "\n",
    "    print 'the age is not greater than 35'\n"
   ]
  },
  {
   "cell_type": "code",
   "execution_count": 17,
   "metadata": {},
   "outputs": [
    {
     "name": "stdout",
     "output_type": "stream",
     "text": [
      "2\n"
     ]
    }
   ],
   "source": [
    "# 3-8a\n",
    "\n",
    "number= 10\n",
    "newNumber = number /4\n",
    "\n",
    "print newNumber"
   ]
  },
  {
   "cell_type": "code",
   "execution_count": 1,
   "metadata": {},
   "outputs": [
    {
     "name": "stdout",
     "output_type": "stream",
     "text": [
      "2\n"
     ]
    }
   ],
   "source": [
    "# 3-8b\n",
    "\n",
    "number = 10\n",
    "newNumber = number//4\n",
    "print newNumber"
   ]
  },
  {
   "cell_type": "code",
   "execution_count": 7,
   "metadata": {},
   "outputs": [
    {
     "name": "stdout",
     "output_type": "stream",
     "text": [
      "2\n"
     ]
    }
   ],
   "source": [
    "# 3-8c\n",
    "\n",
    "number = 10 \n",
    "newNumber = number%4\n",
    "print newNumber\n"
   ]
  },
  {
   "cell_type": "code",
   "execution_count": 8,
   "metadata": {},
   "outputs": [
    {
     "name": "stdout",
     "output_type": "stream",
     "text": [
      "25.3375\n"
     ]
    }
   ],
   "source": [
    "# 3-9a\n",
    "\n",
    "number= float(101.35)\n",
    "newNumber = number/4\n",
    "print newNumber\n",
    "\n"
   ]
  },
  {
   "cell_type": "code",
   "execution_count": 9,
   "metadata": {},
   "outputs": [
    {
     "name": "stdout",
     "output_type": "stream",
     "text": [
      "25.0\n"
     ]
    }
   ],
   "source": [
    "#3-9b\n",
    "\n",
    "number = float(101.35)\n",
    "newNumber= number//4\n",
    "print newNumber"
   ]
  },
  {
   "cell_type": "code",
   "execution_count": 10,
   "metadata": {},
   "outputs": [
    {
     "name": "stdout",
     "output_type": "stream",
     "text": [
      "1.35\n"
     ]
    }
   ],
   "source": [
    "#3-9c\n",
    "\n",
    "number = float(101.35)\n",
    "newNumber = number%4\n",
    "print newNumber"
   ]
  },
  {
   "cell_type": "code",
   "execution_count": 1,
   "metadata": {},
   "outputs": [
    {
     "name": "stdout",
     "output_type": "stream",
     "text": [
      "False\n"
     ]
    }
   ],
   "source": [
    "#3-10a\n",
    "\n",
    "myAge= 21\n",
    "yourAge= 25\n",
    "result = myAge == yourAge\n",
    "print result"
   ]
  },
  {
   "cell_type": "code",
   "execution_count": 2,
   "metadata": {},
   "outputs": [
    {
     "name": "stdout",
     "output_type": "stream",
     "text": [
      "False\n"
     ]
    }
   ],
   "source": [
    "#3-10b\n",
    "\n",
    "hisAge= 25\n",
    "result = myAge == hisAge\n",
    "print result"
   ]
  },
  {
   "cell_type": "code",
   "execution_count": null,
   "metadata": {
    "collapsed": true
   },
   "outputs": [],
   "source": []
  }
 ],
 "metadata": {
  "kernelspec": {
   "display_name": "Python 2",
   "language": "python",
   "name": "python2"
  },
  "language_info": {
   "codemirror_mode": {
    "name": "ipython",
    "version": 2
   },
   "file_extension": ".py",
   "mimetype": "text/x-python",
   "name": "python",
   "nbconvert_exporter": "python",
   "pygments_lexer": "ipython2",
   "version": "2.7.13"
  }
 },
 "nbformat": 4,
 "nbformat_minor": 2
}
