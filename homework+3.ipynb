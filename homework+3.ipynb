{
 "cells": [
  {
   "cell_type": "code",
   "execution_count": 34,
   "metadata": {},
   "outputs": [
    {
     "name": "stdout",
     "output_type": "stream",
     "text": [
      "Harrys age:4\n",
      "Sallys age:3\n",
      "Marys age:2\n",
      "less\n"
     ]
    }
   ],
   "source": [
    "# Exercise 1\n",
    "Harry = raw_input(\"Harrys age:\")\n",
    "Sally = raw_input(\"Sallys age:\")\n",
    "Mary = raw_input(\"Marys age:\")\n",
    "\n",
    "\n",
    "\n",
    "if Harry and Sally < 20 and Sally or Mary > 30:\n",
    "    print \"less\"\n",
    "    \n",
    "else:\n",
    "    print \"Either Sally or Mary is older than 30.\"\n",
    "    \n",
    "    \n",
    "    \n",
    "    \n",
    "    \n",
    "            \n",
    "    "
   ]
  },
  {
   "cell_type": "code",
   "execution_count": 35,
   "metadata": {},
   "outputs": [
    {
     "name": "stdout",
     "output_type": "stream",
     "text": [
      "your name:Monique\n",
      "Your name has 7 characters\n"
     ]
    }
   ],
   "source": [
    "# exercise 2\n",
    "\n",
    "name = raw_input(\"your name:\")\n",
    "\n",
    "print \"Your name has %s characters\" % (len(name))"
   ]
  },
  {
   "cell_type": "code",
   "execution_count": 45,
   "metadata": {},
   "outputs": [
    {
     "name": "stdout",
     "output_type": "stream",
     "text": [
      "Enter your favorite movie:grease\n",
      "esaerg\n"
     ]
    }
   ],
   "source": [
    "# exercise 3\n",
    "\n",
    "movie = raw_input(\"Enter your favorite movie:\")\n",
    "\n",
    "print movie[::-1]\n",
    "    "
   ]
  },
  {
   "cell_type": "code",
   "execution_count": null,
   "metadata": {},
   "outputs": [],
   "source": [
    "# exercise 4\n",
    "\n",
    "text =raw_input(\"enter your text: \")\n",
    "search = raw_input(\"enter your search:\")\n",
    "\n",
    "search = text.split()\n",
    "words = \n",
    "\n",
    "if search == text.split():\n",
    "    print \"search string found\"\n",
    "else:\n",
    "    \n",
    "    print \"search string not found\"\n",
    "\n",
    "\n",
    "\n"
   ]
  },
  {
   "cell_type": "code",
   "execution_count": null,
   "metadata": {
    "collapsed": true
   },
   "outputs": [],
   "source": []
  },
  {
   "cell_type": "code",
   "execution_count": null,
   "metadata": {
    "collapsed": true
   },
   "outputs": [],
   "source": []
  },
  {
   "cell_type": "code",
   "execution_count": null,
   "metadata": {
    "collapsed": true
   },
   "outputs": [],
   "source": []
  },
  {
   "cell_type": "code",
   "execution_count": null,
   "metadata": {
    "collapsed": true
   },
   "outputs": [],
   "source": [
    "text = raw_input(\"enter a repeating text:\")\n",
    "searchString = raw_input(\"enter your search word:\")\n",
    "words = text.split\n"
   ]
  },
  {
   "cell_type": "code",
   "execution_count": null,
   "metadata": {
    "collapsed": true
   },
   "outputs": [],
   "source": []
  }
 ],
 "metadata": {
  "kernelspec": {
   "display_name": "Python 2",
   "language": "python",
   "name": "python2"
  },
  "language_info": {
   "codemirror_mode": {
    "name": "ipython",
    "version": 2
   },
   "file_extension": ".py",
   "mimetype": "text/x-python",
   "name": "python",
   "nbconvert_exporter": "python",
   "pygments_lexer": "ipython2",
   "version": "2.7.13"
  }
 },
 "nbformat": 4,
 "nbformat_minor": 2
}
